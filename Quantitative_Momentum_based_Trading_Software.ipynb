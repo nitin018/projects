{
  "nbformat": 4,
  "nbformat_minor": 0,
  "metadata": {
    "colab": {
      "name": "Quantitative Momentum based Trading Software",
      "provenance": [],
      "authorship_tag": "ABX9TyPgEfW3Rma+YmpQyVB9smnD",
      "include_colab_link": true
    },
    "kernelspec": {
      "name": "python3",
      "display_name": "Python 3"
    },
    "language_info": {
      "name": "python"
    }
  },
  "cells": [
    {
      "cell_type": "markdown",
      "metadata": {
        "id": "view-in-github",
        "colab_type": "text"
      },
      "source": [
        "<a href=\"https://colab.research.google.com/github/nitin018/twitter_sentiment_analysis/blob/main/Quantitative_Momentum_based_Trading_Software.ipynb\" target=\"_parent\"><img src=\"https://colab.research.google.com/assets/colab-badge.svg\" alt=\"Open In Colab\"/></a>"
      ]
    },
    {
      "cell_type": "code",
      "metadata": {
        "id": "4SK4VM1xlviN"
      },
      "source": [
        "# Importing the libraries we need\n",
        "import numpy as np\n",
        "import pandas as pd\n",
        "import requests\n",
        "import math\n",
        "from scipy import stats\n",
        "import xlsxwriter"
      ],
      "execution_count": null,
      "outputs": []
    },
    {
      "cell_type": "code",
      "metadata": {
        "id": "6NFi5cauLVY-"
      },
      "source": [
        "# Importing the stocks\n",
        "stocks = pd.read_csv('sp_500_stocks.csv')"
      ],
      "execution_count": 34,
      "outputs": []
    },
    {
      "cell_type": "code",
      "metadata": {
        "id": "HxYioTkAMCIb"
      },
      "source": [
        "# Acquiring an API Token (Just using sandbox mode since it is free)\n",
        "IEX_CLOUD_API_TOKEN = 'Tpk_059b97af715d417d9f49f50b51b1c448'"
      ],
      "execution_count": 21,
      "outputs": []
    },
    {
      "cell_type": "code",
      "metadata": {
        "id": "iBFu-AB0ldXp"
      },
      "source": [
        "# Making the first API call\n",
        "symbol = 'TSLA'\n",
        "api_url = f'https://sandbox.iexapis.com/stable/stock/{symbol}/stats?token={IEX_CLOUD_API_TOKEN}'\n",
        "data = requests.get(api_url).json()\n",
        "data"
      ],
      "execution_count": null,
      "outputs": []
    },
    {
      "cell_type": "code",
      "metadata": {
        "id": "fyWnthPwoq5A"
      },
      "source": [
        "# Parsing API Call\n",
        "data['year1ChangePercent']"
      ],
      "execution_count": null,
      "outputs": []
    },
    {
      "cell_type": "code",
      "metadata": {
        "id": "UNQfPv4-oq6l"
      },
      "source": [
        "# Executing API Batch, Building DataFrame\n",
        "def chunks(lst, n):\n",
        "    \"\"\"Yield successive n-sized chunks from lst.\"\"\"\n",
        "    for i in range(0, len(lst), n):\n",
        "        yield lst[i:i + n]   \n",
        "        \n",
        "symbol_groups = list(chunks(stocks['Ticker'], 100))\n",
        "symbol_strings = []\n",
        "for i in range(0, len(symbol_groups)):\n",
        "    symbol_strings.append(','.join(symbol_groups[i]))\n",
        "#     print(symbol_strings[i])\n",
        "\n",
        "my_columns = ['Ticker', 'Price', 'One-Year Price Return', 'Number of Shares to Buy']"
      ],
      "execution_count": 42,
      "outputs": []
    },
    {
      "cell_type": "code",
      "metadata": {
        "id": "c3tRS5X1yvBi"
      },
      "source": [
        "#Creating blank dataFrame and adding data\n",
        "final_dataframe = pd.DataFrame(columns = my_columns)\n",
        "\n",
        "for symbol_string in symbol_strings:\n",
        "#     print(symbol_strings)\n",
        "    batch_api_call_url = f'https://sandbox.iexapis.com/stable/stock/market/batch/?types=stats,quote&symbols={symbol_string}&token={IEX_CLOUD_API_TOKEN}'\n",
        "    data = requests.get(batch_api_call_url).json()\n",
        "    for symbol in symbol_string.split(','):\n",
        "        final_dataframe = final_dataframe.append(\n",
        "                                        pd.Series([symbol, \n",
        "                                                   data[symbol]['quote']['latestPrice'],\n",
        "                                                   data[symbol]['stats']['year1ChangePercent'],\n",
        "                                                   'N/A'\n",
        "                                                   ], \n",
        "                                                  index = my_columns), \n",
        "                                        ignore_index = True)\n",
        "        \n",
        "    \n",
        "final_dataframe"
      ],
      "execution_count": null,
      "outputs": []
    },
    {
      "cell_type": "code",
      "metadata": {
        "id": "oGwhiSIszOw4"
      },
      "source": [
        "# Going to remove low- momentum stocks\n",
        "\n",
        "final_dataframe.sort_values('One-Year Price Return', ascending = False, inplace = True)\n",
        "final_dataframe = final_dataframe[:51]\n",
        "final_dataframe.reset_index(drop = True, inplace = True)\n",
        "final_dataframe"
      ],
      "execution_count": null,
      "outputs": []
    },
    {
      "cell_type": "code",
      "metadata": {
        "colab": {
          "base_uri": "https://localhost:8080/"
        },
        "id": "hFgCBQE6zYX-",
        "outputId": "7c9f5197-4a7e-4581-b288-48412b120cb4"
      },
      "source": [
        "# How many shares to buy based on portfolio size (Asking for Input)\n",
        "def portfolio_input():\n",
        "    global portfolio_size\n",
        "    portfolio_size = input(\"Enter the value of your portfolio:\")\n",
        "\n",
        "    try:\n",
        "        val = float(portfolio_size)\n",
        "    except ValueError:\n",
        "        print(\"That's not a number! \\n Try again:\")\n",
        "        portfolio_size = input(\"Enter the value of your portfolio:\")\n",
        "\n",
        "portfolio_input()\n",
        "print(portfolio_size)"
      ],
      "execution_count": 46,
      "outputs": [
        {
          "output_type": "stream",
          "text": [
            "Enter the value of your portfolio:100\n",
            "100\n"
          ],
          "name": "stdout"
        }
      ]
    },
    {
      "cell_type": "code",
      "metadata": {
        "id": "PCtlBM7Hzrkw"
      },
      "source": [
        "# How many shares to buy based on portfolio size (Asking for Input)\n",
        "\n",
        "position_size = float(portfolio_size) / len(final_dataframe.index)\n",
        "for i in range(0, len(final_dataframe['Ticker'])):\n",
        "    final_dataframe.loc[i, 'Number of Shares to Buy'] = math.floor(position_size / final_dataframe['Price'][i])\n",
        "final_dataframe"
      ],
      "execution_count": null,
      "outputs": []
    },
    {
      "cell_type": "code",
      "metadata": {
        "colab": {
          "base_uri": "https://localhost:8080/"
        },
        "id": "PguzXIkg1JC5",
        "outputId": "4b45398a-b449-4df5-bb36-3a0eddd4b10e"
      },
      "source": [
        "# High quality traved vs. low quality trades\n",
        "\n",
        "hqm_columns = [\n",
        "                'Ticker', \n",
        "                'Price', \n",
        "                'Number of Shares to Buy', \n",
        "                'One-Year Price Return', \n",
        "                'One-Year Return Percentile',\n",
        "                'Six-Month Price Return',\n",
        "                'Six-Month Return Percentile',\n",
        "                'Three-Month Price Return',\n",
        "                'Three-Month Return Percentile',\n",
        "                'One-Month Price Return',\n",
        "                'One-Month Return Percentile',\n",
        "                'HQM Score'\n",
        "                ]\n",
        "\n",
        "hqm_dataframe = pd.DataFrame(columns = hqm_columns)\n",
        "\n",
        "for symbol_string in symbol_strings:\n",
        "#     print(symbol_strings)\n",
        "    batch_api_call_url = f'https://sandbox.iexapis.com/stable/stock/market/batch/?types=stats,quote&symbols={symbol_string}&token={IEX_CLOUD_API_TOKEN}'\n",
        "    data = requests.get(batch_api_call_url).json()\n",
        "    for symbol in symbol_string.split(','):\n",
        "        hqm_dataframe = hqm_dataframe.append(\n",
        "                                        pd.Series([symbol, \n",
        "                                                   data[symbol]['quote']['latestPrice'],\n",
        "                                                   'N/A',\n",
        "                                                   data[symbol]['stats']['year1ChangePercent'],\n",
        "                                                   'N/A',\n",
        "                                                   data[symbol]['stats']['month6ChangePercent'],\n",
        "                                                   'N/A',\n",
        "                                                   data[symbol]['stats']['month3ChangePercent'],\n",
        "                                                   'N/A',\n",
        "                                                   data[symbol]['stats']['month1ChangePercent'],\n",
        "                                                   'N/A',\n",
        "                                                   'N/A'\n",
        "                                                   ], \n",
        "                                                  index = hqm_columns), \n",
        "                                        ignore_index = True)\n",
        "        \n",
        "hqm_dataframe.columns"
      ],
      "execution_count": 49,
      "outputs": [
        {
          "output_type": "execute_result",
          "data": {
            "text/plain": [
              "Index(['Ticker', 'Price', 'Number of Shares to Buy', 'One-Year Price Return',\n",
              "       'One-Year Return Percentile', 'Six-Month Price Return',\n",
              "       'Six-Month Return Percentile', 'Three-Month Price Return',\n",
              "       'Three-Month Return Percentile', 'One-Month Price Return',\n",
              "       'One-Month Return Percentile', 'HQM Score'],\n",
              "      dtype='object')"
            ]
          },
          "metadata": {
            "tags": []
          },
          "execution_count": 49
        }
      ]
    },
    {
      "cell_type": "code",
      "metadata": {
        "id": "ErqlyZHF1WZx"
      },
      "source": [
        "#Calculating momentum percentiles\n",
        "\n",
        "time_periods = [\n",
        "                'One-Year',\n",
        "                'Six-Month',\n",
        "                'Three-Month',\n",
        "                'One-Month'\n",
        "                ]\n",
        "\n",
        "for row in hqm_dataframe.index:\n",
        "    for time_period in time_periods:\n",
        "        hqm_dataframe.loc[row, f'{time_period} Return Percentile'] = stats.percentileofscore(hqm_dataframe[f'{time_period} Price Return'], hqm_dataframe.loc[row, f'{time_period} Price Return'])/100\n",
        "\n",
        "# Print each percentile score to make sure it was calculated properly\n",
        "for time_period in time_periods:\n",
        "    print(hqm_dataframe[f'{time_period} Return Percentile'])\n",
        "\n",
        "#Print the entire DataFrame    \n",
        "hqm_dataframe"
      ],
      "execution_count": null,
      "outputs": []
    },
    {
      "cell_type": "code",
      "metadata": {
        "id": "6leeDn7O1j17"
      },
      "source": [
        "#Calculating the HQM score\n",
        "\n",
        "from statistics import mean\n",
        "\n",
        "for row in hqm_dataframe.index:\n",
        "    momentum_percentiles = []\n",
        "    for time_period in time_periods:\n",
        "        momentum_percentiles.append(hqm_dataframe.loc[row, f'{time_period} Return Percentile'])\n",
        "    hqm_dataframe.loc[row, 'HQM Score'] = mean(momentum_percentiles)"
      ],
      "execution_count": null,
      "outputs": []
    },
    {
      "cell_type": "code",
      "metadata": {
        "id": "nvYXcnKY1qOq"
      },
      "source": [
        "# Selecting best momentum stocks (top50)\n",
        "\n",
        "hqm_dataframe.sort_values(by = 'HQM Score', ascending = False)\n",
        "hqm_dataframe = hqm_dataframe[:51]"
      ],
      "execution_count": null,
      "outputs": []
    },
    {
      "cell_type": "code",
      "metadata": {
        "id": "5nTnkdhk1yYb"
      },
      "source": [
        "# How many shares to buy\n",
        "\n",
        "portfolio_input()"
      ],
      "execution_count": null,
      "outputs": []
    },
    {
      "cell_type": "code",
      "metadata": {
        "id": "IkW3_8Mg12i5"
      },
      "source": [
        "position_size = float(portfolio_size) / len(hqm_dataframe.index)\n",
        "for i in range(0, len(hqm_dataframe['Ticker'])-1):\n",
        "    hqm_dataframe.loc[i, 'Number of Shares to Buy'] = math.floor(position_size / hqm_dataframe['Price'][i])\n",
        "hqm_dataframe"
      ],
      "execution_count": null,
      "outputs": []
    },
    {
      "cell_type": "code",
      "metadata": {
        "id": "TisaH0w815t4"
      },
      "source": [
        "#Formatting for excel output\n",
        "\n",
        "writer = pd.ExcelWriter('momentum_strategy.xlsx', engine='xlsxwriter')\n",
        "hqm_dataframe.to_excel(writer, sheet_name='Momentum Strategy', index = False)\n"
      ],
      "execution_count": null,
      "outputs": []
    },
    {
      "cell_type": "code",
      "metadata": {
        "id": "VKx0eSOl1-2y"
      },
      "source": [
        "background_color = '#0a0a23'\n",
        "font_color = '#ffffff'\n",
        "\n",
        "string_template = writer.book.add_format(\n",
        "        {\n",
        "            'font_color': font_color,\n",
        "            'bg_color': background_color,\n",
        "            'border': 1\n",
        "        }\n",
        "    )\n",
        "\n",
        "dollar_template = writer.book.add_format(\n",
        "        {\n",
        "            'num_format':'$0.00',\n",
        "            'font_color': font_color,\n",
        "            'bg_color': background_color,\n",
        "            'border': 1\n",
        "        }\n",
        "    )\n",
        "\n",
        "integer_template = writer.book.add_format(\n",
        "        {\n",
        "            'num_format':'0',\n",
        "            'font_color': font_color,\n",
        "            'bg_color': background_color,\n",
        "            'border': 1\n",
        "        }\n",
        "    )\n",
        "\n",
        "percent_template = writer.book.add_format(\n",
        "        {\n",
        "            'num_format':'0.0%',\n",
        "            'font_color': font_color,\n",
        "            'bg_color': background_color,\n",
        "            'border': 1\n",
        "        }\n",
        "    )"
      ],
      "execution_count": null,
      "outputs": []
    },
    {
      "cell_type": "code",
      "metadata": {
        "id": "7feYnroF2CEL"
      },
      "source": [
        "column_formats = { \n",
        "                    'A': ['Ticker', string_template],\n",
        "                    'B': ['Price', dollar_template],\n",
        "                    'C': ['Number of Shares to Buy', integer_template],\n",
        "                    'D': ['One-Year Price Return', percent_template],\n",
        "                    'E': ['One-Year Return Percentile', percent_template],\n",
        "                    'F': ['Six-Month Price Return', percent_template],\n",
        "                    'G': ['Six-Month Return Percentile', percent_template],\n",
        "                    'H': ['Three-Month Price Return', percent_template],\n",
        "                    'I': ['Three-Month Return Percentile', percent_template],\n",
        "                    'J': ['One-Month Price Return', percent_template],\n",
        "                    'K': ['One-Month Return Percentile', percent_template],\n",
        "                    'L': ['HQM Score', integer_template]\n",
        "                    }\n",
        "\n",
        "for column in column_formats.keys():\n",
        "    writer.sheets['Momentum Strategy'].set_column(f'{column}:{column}', 20, column_formats[column][1])\n",
        "    writer.sheets['Momentum Strategy'].write(f'{column}1', column_formats[column][0], string_template)"
      ],
      "execution_count": null,
      "outputs": []
    },
    {
      "cell_type": "code",
      "metadata": {
        "id": "aNJq57NG2eyP"
      },
      "source": [
        "# Saving to excel \n",
        "writer.save()"
      ],
      "execution_count": null,
      "outputs": []
    }
  ]
}