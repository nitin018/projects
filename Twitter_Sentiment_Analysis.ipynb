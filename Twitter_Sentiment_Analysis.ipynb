{
  "nbformat": 4,
  "nbformat_minor": 0,
  "metadata": {
    "colab": {
      "name": "Twitter Sentiment Analysis",
      "provenance": [],
      "authorship_tag": "ABX9TyNm15IdCVx0Dehb7aUtXKMB",
      "include_colab_link": true
    },
    "kernelspec": {
      "name": "python3",
      "display_name": "Python 3"
    },
    "language_info": {
      "name": "python"
    }
  },
  "cells": [
    {
      "cell_type": "markdown",
      "metadata": {
        "id": "view-in-github",
        "colab_type": "text"
      },
      "source": [
        "<a href=\"https://colab.research.google.com/github/nitin018/twitter_sentiment_analysis/blob/main/Twitter_Sentiment_Analysis.ipynb\" target=\"_parent\"><img src=\"https://colab.research.google.com/assets/colab-badge.svg\" alt=\"Open In Colab\"/></a>"
      ]
    },
    {
      "cell_type": "code",
      "metadata": {
        "id": "37FgwnrvFKOu"
      },
      "source": [
        "# Importing the libraries\n",
        "import tweepy\n",
        "from textblob import TextBlob\n",
        "from wordcloud import WordCloud\n",
        "import pandas as pd\n",
        "import numpy as np\n",
        "import re\n",
        "import matplotlib.pyplot as plt\n",
        "plt.style.use('fivethirtyeight')"
      ],
      "execution_count": null,
      "outputs": []
    },
    {
      "cell_type": "code",
      "metadata": {
        "id": "xn-JELMYFNAp"
      },
      "source": [
        "# Load and store the data\n",
        "consumerKey = 'KFAK26Emf90wyJm8dzBZUjdxk'\n",
        "consumerSecret = 'lRZn81qHLctzPu9ukcFjblVvigmpWBU8GWnSAwKng78d9oUqe9'\n",
        "accessToken = '1414032316557664258-gaVjvUMgF5TpTJCpHnuE80oeI8yTnX'\n",
        "accessTokenSecret = 'b3NCle7fi4ZEe0RQ5LipxvD9e2Vfk5m4dyUBMxIXPdxHd'\n"
      ],
      "execution_count": null,
      "outputs": []
    },
    {
      "cell_type": "code",
      "metadata": {
        "id": "489SfsBJH4TS"
      },
      "source": [
        "# Create the authentication object\n",
        "authenticate = tweepy.OAuthHandler(consumerKey, consumerSecret)\n",
        "\n",
        "authenticate.set_access_token(accessToken, accessTokenSecret)\n",
        "\n",
        "api = tweepy.API(authenticate, wait_on_rate_limit = True)"
      ],
      "execution_count": null,
      "outputs": []
    },
    {
      "cell_type": "code",
      "metadata": {
        "id": "b5e45wTnIQYC"
      },
      "source": [
        "# Extract 100 tweets for twitter user\n",
        "posts = api.user_timeline(screen_name = \"BillGates\" , count = 100, lang = \"en\", tweet_mode = \"extended\")\n",
        "# Print the last 5 tweets from account\n",
        "print(\"Show the 5 most recent tweets: /n\")\n",
        "i=1\n",
        "for tweet in posts[0:5]:\n",
        "    print(str(i) + ') '+ tweet.full_text + '/n')\n",
        "    i = i+1"
      ],
      "execution_count": null,
      "outputs": []
    },
    {
      "cell_type": "code",
      "metadata": {
        "id": "OPXO8UUqWbHL"
      },
      "source": [
        "# Create a dataframe with a colum called Tweets\n",
        "df = pd.DataFrame( [tweet.full_text for tweet in posts] , columns=['Tweets'])\n",
        "\n",
        "#Show first 5 rows of data\n",
        "df.head()"
      ],
      "execution_count": null,
      "outputs": []
    },
    {
      "cell_type": "code",
      "metadata": {
        "id": "1BMjIxvUc9hA"
      },
      "source": [
        "# Word Cloud\n",
        "allWords = ' '.join( [twts for twts in df['Tweets']])\n",
        "wordCloud = WordCloud(width = 500, height = 300, random_state = 21, max_font_size = 110).generate(allWords)\n",
        "\n",
        "plt.imshow(wordCloud, interpolation= \"bilinear\")\n",
        "plt.axis('off')\n",
        "plt.show()"
      ],
      "execution_count": null,
      "outputs": []
    },
    {
      "cell_type": "code",
      "metadata": {
        "id": "RcdQnBLbhyO8"
      },
      "source": [
        "# Create a function to compute the negative, neutral, and positive analysis\n",
        "def getAnalysis(score):\n",
        "  if score < 0:\n",
        "    return 'Negative'\n",
        "  elif score == 0:\n",
        "    return 'Neutral'\n",
        "  else:\n",
        "    return 'Positive'\n",
        "\n",
        "df['Analysis'] = df['Polarity'].apply(getAnalysis)\n",
        "\n",
        "# Show the dataframe\n",
        "df"
      ],
      "execution_count": null,
      "outputs": []
    },
    {
      "cell_type": "code",
      "metadata": {
        "id": "3SC0cTZris0a"
      },
      "source": [
        "# Print all of the positive tweets\n",
        "j=1\n",
        "sortedDF = df.sort_values(by=['Polarity'])\n",
        "for i in range(0, sortedDF.shape[0]):\n",
        "  if(sortedDF['Analysis'][i] == 'Positive'):\n",
        "    print(str(j) + ') '+sortedDF['Tweets'][i])\n",
        "    print()\n",
        "    j = j+1"
      ],
      "execution_count": null,
      "outputs": []
    },
    {
      "cell_type": "code",
      "metadata": {
        "id": "gSY_erurkOZI"
      },
      "source": [
        "# Print all of the negative tweets\n",
        "j=1\n",
        "sortedDF = df.sort_values(by=['Polarity'], ascending='False')\n",
        "for i in range(0, sortedDF.shape[0]):\n",
        "  if(sortedDF['Analysis'][i] == 'Negative'):\n",
        "    print(str(j) + ') '+sortedDF['Tweets'][i])\n",
        "    print()\n",
        "    j = j+1"
      ],
      "execution_count": null,
      "outputs": []
    },
    {
      "cell_type": "code",
      "metadata": {
        "id": "hiQrLStSmZaX"
      },
      "source": [
        "# Plot the polarity and subjectivity\n",
        "plt.figure(figsize=(8,6))\n",
        "for i in range(0, df.shape[0]):\n",
        "  plt.scatter(df['Polarity'][i], df['Subjectivity'][i], color ='Red')\n",
        "\n",
        "  plt.title('Sentiment Analysis')\n",
        "  plt.xlabel('Polarity')\n",
        "  plt.ylabel('Subjectivity')\n",
        "  plt.show"
      ],
      "execution_count": null,
      "outputs": []
    },
    {
      "cell_type": "code",
      "metadata": {
        "colab": {
          "base_uri": "https://localhost:8080/"
        },
        "id": "WBT5RurNn-P5",
        "outputId": "cbdccebf-3ff7-4c39-9354-d142dc4cf53f"
      },
      "source": [
        "# Get the percentage of positive tweets\n",
        "ptweets = df[df.Analysis == 'Positive']\n",
        "ptweets = ptweets['Tweets']\n",
        "\n",
        "round((ptweets.shape[0] / df.shape[0]) *100, 1) "
      ],
      "execution_count": null,
      "outputs": [
        {
          "output_type": "execute_result",
          "data": {
            "text/plain": [
              "70.0"
            ]
          },
          "metadata": {
            "tags": []
          },
          "execution_count": 55
        }
      ]
    },
    {
      "cell_type": "code",
      "metadata": {
        "colab": {
          "base_uri": "https://localhost:8080/"
        },
        "id": "m2oJ4c2bowvs",
        "outputId": "921b7a1a-613a-48a1-bee4-2fe051e022bf"
      },
      "source": [
        "# Get the percentage of negative tweets\n",
        "ptweets = df[df.Analysis == 'Negative']\n",
        "ptweets = ptweets['Tweets']\n",
        "\n",
        "round((ptweets.shape[0] / df.shape[0]) *100, 1) "
      ],
      "execution_count": null,
      "outputs": [
        {
          "output_type": "execute_result",
          "data": {
            "text/plain": [
              "10.0"
            ]
          },
          "metadata": {
            "tags": []
          },
          "execution_count": 56
        }
      ]
    },
    {
      "cell_type": "code",
      "metadata": {
        "colab": {
          "base_uri": "https://localhost:8080/"
        },
        "id": "0PTnf3Bqo3Hl",
        "outputId": "b0339ffd-4333-4df6-96b2-526a70b9b79b"
      },
      "source": [
        "# Get the percentage of neutral tweets\n",
        "ptweets = df[df.Analysis == 'Neutral']\n",
        "ptweets = ptweets['Tweets']\n",
        "\n",
        "round((ptweets.shape[0] / df.shape[0]) *100, 1) "
      ],
      "execution_count": null,
      "outputs": [
        {
          "output_type": "execute_result",
          "data": {
            "text/plain": [
              "20.0"
            ]
          },
          "metadata": {
            "tags": []
          },
          "execution_count": 57
        }
      ]
    },
    {
      "cell_type": "code",
      "metadata": {
        "id": "5f_3GtH5pCDg"
      },
      "source": [
        "# Show the value counts\n",
        "df['Analysis'].value_counts()\n",
        "\n",
        "# Plot and visualize the counts\n",
        "plt.title('Sentiment Analysis')\n",
        "plt.xlabel('Sentiment')\n",
        "plt.ylabel('Counts')\n",
        "df['Analysis'].value_counts().plot(kind='bar')\n",
        "plt.show()"
      ],
      "execution_count": null,
      "outputs": []
    }
  ]
}